{
 "cells": [
  {
   "cell_type": "code",
   "execution_count": 0,
   "metadata": {
    "application/vnd.databricks.v1+cell": {
     "cellMetadata": {
      "byteLimit": 2048000,
      "rowLimit": 10000
     },
     "inputWidgets": {},
     "nuid": "971b0d0e-456c-4550-a179-a9cfbbc9fba4",
     "showTitle": false,
     "tableResultSettingsMap": {},
     "title": ""
    }
   },
   "outputs": [
    {
     "output_type": "display_data",
     "data": {
      "application/vnd.databricks.v1+bamboolib_hint": "{\"pd.DataFrames\": [], \"version\": \"0.0.1\"}",
      "text/plain": []
     },
     "metadata": {},
     "output_type": "display_data"
    }
   ],
   "source": [
    "import pandas as pd\n",
    "import requests\n",
    "import time\n",
    "from datetime import datetime\n",
    "from pyspark.sql.functions import *"
   ]
  },
  {
   "cell_type": "code",
   "execution_count": 0,
   "metadata": {
    "application/vnd.databricks.v1+cell": {
     "cellMetadata": {
      "byteLimit": 2048000,
      "rowLimit": 10000
     },
     "inputWidgets": {},
     "nuid": "4efd20e8-56d0-4164-8c42-f5b5e3e7fc9c",
     "showTitle": false,
     "tableResultSettingsMap": {},
     "title": ""
    }
   },
   "outputs": [],
   "source": [
    "df_precipitation_spark = spark.sql(f\"\"\"SELECT * FROM delta. `/dbfs/Silver/Precipitation` \"\"\")"
   ]
  },
  {
   "cell_type": "code",
   "execution_count": 0,
   "metadata": {
    "application/vnd.databricks.v1+cell": {
     "cellMetadata": {
      "byteLimit": 2048000,
      "rowLimit": 10000
     },
     "inputWidgets": {},
     "nuid": "7744d6c4-2c96-4adb-ba10-ea493c779627",
     "showTitle": false,
     "tableResultSettingsMap": {},
     "title": ""
    }
   },
   "outputs": [
    {
     "output_type": "display_data",
     "data": {
      "text/html": [
       "<style scoped>\n",
       "  .table-result-container {\n",
       "    max-height: 300px;\n",
       "    overflow: auto;\n",
       "  }\n",
       "  table, th, td {\n",
       "    border: 1px solid black;\n",
       "    border-collapse: collapse;\n",
       "  }\n",
       "  th, td {\n",
       "    padding: 5px;\n",
       "  }\n",
       "  th {\n",
       "    text-align: left;\n",
       "  }\n",
       "</style><div class='table-result-container'><table class='table-result'><thead style='background-color: white'><tr><th>city</th><th>precipitation</th><th>time_str</th><th>date</th></tr></thead><tbody><tr><td>New York</td><td>0.0</td><td>03:00</td><td>2025-01-30</td></tr><tr><td>Berlin</td><td>0.0</td><td>19:00</td><td>2025-01-20</td></tr><tr><td>Paris</td><td>0.0</td><td>22:00</td><td>2025-01-27</td></tr><tr><td>Berlin</td><td>0.1</td><td>00:00</td><td>2025-01-31</td></tr><tr><td>London</td><td>0.1</td><td>13:00</td><td>2025-01-27</td></tr></tbody></table></div>"
      ]
     },
     "metadata": {
      "application/vnd.databricks.v1+output": {
       "addedWidgets": {},
       "aggData": [],
       "aggError": "",
       "aggOverflow": false,
       "aggSchema": [],
       "aggSeriesLimitReached": false,
       "aggType": "",
       "arguments": {},
       "columnCustomDisplayInfos": {},
       "data": [
        [
         "New York",
         0.0,
         "03:00",
         "2025-01-30"
        ],
        [
         "Berlin",
         0.0,
         "19:00",
         "2025-01-20"
        ],
        [
         "Paris",
         0.0,
         "22:00",
         "2025-01-27"
        ],
        [
         "Berlin",
         0.1,
         "00:00",
         "2025-01-31"
        ],
        [
         "London",
         0.1,
         "13:00",
         "2025-01-27"
        ]
       ],
       "datasetInfos": [],
       "dbfsResultPath": null,
       "isJsonSchema": true,
       "metadata": {},
       "overflow": false,
       "plotOptions": {
        "customPlotOptions": {},
        "displayType": "table",
        "pivotAggregation": null,
        "pivotColumns": null,
        "xColumns": null,
        "yColumns": null
       },
       "removedWidgets": [],
       "schema": [
        {
         "metadata": "{}",
         "name": "city",
         "type": "\"string\""
        },
        {
         "metadata": "{}",
         "name": "precipitation",
         "type": "\"double\""
        },
        {
         "metadata": "{}",
         "name": "time_str",
         "type": "\"string\""
        },
        {
         "metadata": "{}",
         "name": "date",
         "type": "\"date\""
        }
       ],
       "type": "table"
      }
     },
     "output_type": "display_data"
    }
   ],
   "source": [
    "df_precipitation_spark.limit(5).display()"
   ]
  },
  {
   "cell_type": "code",
   "execution_count": 0,
   "metadata": {
    "application/vnd.databricks.v1+cell": {
     "cellMetadata": {
      "byteLimit": 2048000,
      "rowLimit": 10000
     },
     "inputWidgets": {},
     "nuid": "4ce9fba3-009b-490f-a558-d2611612d256",
     "showTitle": false,
     "tableResultSettingsMap": {},
     "title": ""
    }
   },
   "outputs": [],
   "source": [
    "df_precipitation_spark = df_precipitation_spark.withColumnRenamed(\"time_str\", \"HoradoDia\")\n",
    "df_precipitation_spark = df_precipitation_spark.withColumnRenamed(\"date\", \"Data\")\n",
    "df_precipitation_spark = df_precipitation_spark.withColumnRenamed(\"precipitation\", \"Precipitação\")\n",
    "df_precipitation_spark = df_precipitation_spark.withColumnRenamed(\"city\", \"Cidade\")"
   ]
  },
  {
   "cell_type": "code",
   "execution_count": 0,
   "metadata": {
    "application/vnd.databricks.v1+cell": {
     "cellMetadata": {
      "byteLimit": 2048000,
      "rowLimit": 10000
     },
     "inputWidgets": {},
     "nuid": "a64db87c-b400-4b61-8216-fab81afea6c8",
     "showTitle": false,
     "tableResultSettingsMap": {},
     "title": ""
    }
   },
   "outputs": [],
   "source": [
    "df_precipitation_spark = df_precipitation_spark.withColumn(\"Dia\", dayofmonth(\"Data\")) \\\n",
    "       .withColumn(\"Mes\", month(\"Data\")) \\\n",
    "       .withColumn(\"Ano\", year(\"Data\"))"
   ]
  },
  {
   "cell_type": "code",
   "execution_count": 0,
   "metadata": {
    "application/vnd.databricks.v1+cell": {
     "cellMetadata": {
      "byteLimit": 2048000,
      "rowLimit": 10000
     },
     "inputWidgets": {},
     "nuid": "e979eb7a-9e4f-4efe-9591-ba0474cab4bc",
     "showTitle": false,
     "tableResultSettingsMap": {},
     "title": ""
    }
   },
   "outputs": [
    {
     "output_type": "display_data",
     "data": {
      "text/html": [
       "<style scoped>\n",
       "  .table-result-container {\n",
       "    max-height: 300px;\n",
       "    overflow: auto;\n",
       "  }\n",
       "  table, th, td {\n",
       "    border: 1px solid black;\n",
       "    border-collapse: collapse;\n",
       "  }\n",
       "  th, td {\n",
       "    padding: 5px;\n",
       "  }\n",
       "  th {\n",
       "    text-align: left;\n",
       "  }\n",
       "</style><div class='table-result-container'><table class='table-result'><thead style='background-color: white'><tr><th>Cidade</th><th>Precipitação</th><th>HoradoDia</th><th>Data</th><th>Dia</th><th>Mes</th><th>Ano</th></tr></thead><tbody><tr><td>New York</td><td>0.0</td><td>03:00</td><td>2025-01-30</td><td>30</td><td>1</td><td>2025</td></tr><tr><td>Berlin</td><td>0.0</td><td>19:00</td><td>2025-01-20</td><td>20</td><td>1</td><td>2025</td></tr><tr><td>Paris</td><td>0.0</td><td>22:00</td><td>2025-01-27</td><td>27</td><td>1</td><td>2025</td></tr><tr><td>Berlin</td><td>0.1</td><td>00:00</td><td>2025-01-31</td><td>31</td><td>1</td><td>2025</td></tr><tr><td>London</td><td>0.1</td><td>13:00</td><td>2025-01-27</td><td>27</td><td>1</td><td>2025</td></tr><tr><td>Tokyo</td><td>0.0</td><td>23:00</td><td>2025-01-24</td><td>24</td><td>1</td><td>2025</td></tr><tr><td>Berlin</td><td>0.0</td><td>23:00</td><td>2025-01-17</td><td>17</td><td>1</td><td>2025</td></tr><tr><td>London</td><td>0.0</td><td>00:00</td><td>2025-01-24</td><td>24</td><td>1</td><td>2025</td></tr><tr><td>Paris</td><td>0.0</td><td>23:00</td><td>2025-01-15</td><td>15</td><td>1</td><td>2025</td></tr><tr><td>Berlin</td><td>0.0</td><td>20:00</td><td>2025-01-25</td><td>25</td><td>1</td><td>2025</td></tr><tr><td>Tokyo</td><td>0.0</td><td>19:00</td><td>2025-01-16</td><td>16</td><td>1</td><td>2025</td></tr><tr><td>São Paulo</td><td>0.0</td><td>11:00</td><td>2025-01-18</td><td>18</td><td>1</td><td>2025</td></tr><tr><td>Tokyo</td><td>0.0</td><td>15:00</td><td>2025-01-19</td><td>19</td><td>1</td><td>2025</td></tr><tr><td>Tokyo</td><td>0.0</td><td>17:00</td><td>2025-01-14</td><td>14</td><td>1</td><td>2025</td></tr><tr><td>New York</td><td>0.0</td><td>03:00</td><td>2025-01-23</td><td>23</td><td>1</td><td>2025</td></tr><tr><td>New York</td><td>0.0</td><td>17:00</td><td>2025-01-30</td><td>30</td><td>1</td><td>2025</td></tr><tr><td>São Paulo</td><td>0.0</td><td>14:00</td><td>2025-01-17</td><td>17</td><td>1</td><td>2025</td></tr><tr><td>Paris</td><td>0.0</td><td>21:00</td><td>2025-01-30</td><td>30</td><td>1</td><td>2025</td></tr><tr><td>Berlin</td><td>0.2</td><td>00:00</td><td>2025-01-25</td><td>25</td><td>1</td><td>2025</td></tr><tr><td>Paris</td><td>0.0</td><td>14:00</td><td>2025-01-28</td><td>28</td><td>1</td><td>2025</td></tr></tbody></table></div>"
      ]
     },
     "metadata": {
      "application/vnd.databricks.v1+output": {
       "addedWidgets": {},
       "aggData": [],
       "aggError": "",
       "aggOverflow": false,
       "aggSchema": [],
       "aggSeriesLimitReached": false,
       "aggType": "",
       "arguments": {},
       "columnCustomDisplayInfos": {},
       "data": [
        [
         "New York",
         0.0,
         "03:00",
         "2025-01-30",
         30,
         1,
         2025
        ],
        [
         "Berlin",
         0.0,
         "19:00",
         "2025-01-20",
         20,
         1,
         2025
        ],
        [
         "Paris",
         0.0,
         "22:00",
         "2025-01-27",
         27,
         1,
         2025
        ],
        [
         "Berlin",
         0.1,
         "00:00",
         "2025-01-31",
         31,
         1,
         2025
        ],
        [
         "London",
         0.1,
         "13:00",
         "2025-01-27",
         27,
         1,
         2025
        ],
        [
         "Tokyo",
         0.0,
         "23:00",
         "2025-01-24",
         24,
         1,
         2025
        ],
        [
         "Berlin",
         0.0,
         "23:00",
         "2025-01-17",
         17,
         1,
         2025
        ],
        [
         "London",
         0.0,
         "00:00",
         "2025-01-24",
         24,
         1,
         2025
        ],
        [
         "Paris",
         0.0,
         "23:00",
         "2025-01-15",
         15,
         1,
         2025
        ],
        [
         "Berlin",
         0.0,
         "20:00",
         "2025-01-25",
         25,
         1,
         2025
        ],
        [
         "Tokyo",
         0.0,
         "19:00",
         "2025-01-16",
         16,
         1,
         2025
        ],
        [
         "São Paulo",
         0.0,
         "11:00",
         "2025-01-18",
         18,
         1,
         2025
        ],
        [
         "Tokyo",
         0.0,
         "15:00",
         "2025-01-19",
         19,
         1,
         2025
        ],
        [
         "Tokyo",
         0.0,
         "17:00",
         "2025-01-14",
         14,
         1,
         2025
        ],
        [
         "New York",
         0.0,
         "03:00",
         "2025-01-23",
         23,
         1,
         2025
        ],
        [
         "New York",
         0.0,
         "17:00",
         "2025-01-30",
         30,
         1,
         2025
        ],
        [
         "São Paulo",
         0.0,
         "14:00",
         "2025-01-17",
         17,
         1,
         2025
        ],
        [
         "Paris",
         0.0,
         "21:00",
         "2025-01-30",
         30,
         1,
         2025
        ],
        [
         "Berlin",
         0.2,
         "00:00",
         "2025-01-25",
         25,
         1,
         2025
        ],
        [
         "Paris",
         0.0,
         "14:00",
         "2025-01-28",
         28,
         1,
         2025
        ]
       ],
       "datasetInfos": [],
       "dbfsResultPath": null,
       "isJsonSchema": true,
       "metadata": {},
       "overflow": false,
       "plotOptions": {
        "customPlotOptions": {},
        "displayType": "table",
        "pivotAggregation": null,
        "pivotColumns": null,
        "xColumns": null,
        "yColumns": null
       },
       "removedWidgets": [],
       "schema": [
        {
         "metadata": "{}",
         "name": "Cidade",
         "type": "\"string\""
        },
        {
         "metadata": "{}",
         "name": "Precipitação",
         "type": "\"double\""
        },
        {
         "metadata": "{}",
         "name": "HoradoDia",
         "type": "\"string\""
        },
        {
         "metadata": "{}",
         "name": "Data",
         "type": "\"date\""
        },
        {
         "metadata": "{}",
         "name": "Dia",
         "type": "\"integer\""
        },
        {
         "metadata": "{}",
         "name": "Mes",
         "type": "\"integer\""
        },
        {
         "metadata": "{}",
         "name": "Ano",
         "type": "\"integer\""
        }
       ],
       "type": "table"
      }
     },
     "output_type": "display_data"
    }
   ],
   "source": [
    "df_precipitation_spark.limit(20).display()"
   ]
  },
  {
   "cell_type": "code",
   "execution_count": 0,
   "metadata": {
    "application/vnd.databricks.v1+cell": {
     "cellMetadata": {
      "byteLimit": 2048000,
      "rowLimit": 10000
     },
     "inputWidgets": {},
     "nuid": "656bcefd-d2a6-4033-8ccb-3d91a121bb47",
     "showTitle": false,
     "tableResultSettingsMap": {},
     "title": ""
    }
   },
   "outputs": [],
   "source": [
    "df_precipitation_spark.repartition(20)\\\n",
    "              .write.format(\"delta\")\\\n",
    "              .mode(\"overwrite\")\\\n",
    "              .option(\"overwriteSchema\", \"true\")\\\n",
    "              .save(\"/dbfs/Gold/Precipitacao\")"
   ]
  },
  {
   "cell_type": "code",
   "execution_count": 0,
   "metadata": {
    "application/vnd.databricks.v1+cell": {
     "cellMetadata": {},
     "inputWidgets": {},
     "nuid": "d8be3560-3d2c-419d-9dd4-089984bd7e80",
     "showTitle": false,
     "tableResultSettingsMap": {},
     "title": ""
    }
   },
   "outputs": [],
   "source": []
  }
 ],
 "metadata": {
  "application/vnd.databricks.v1+notebook": {
   "computePreferences": null,
   "dashboards": [],
   "environmentMetadata": {
    "base_environment": "",
    "environment_version": "1"
   },
   "inputWidgetPreferences": null,
   "language": "python",
   "notebookMetadata": {
    "pythonIndentUnit": 4
   },
   "notebookName": "Refining Table Precipitation",
   "widgets": {}
  }
 },
 "nbformat": 4,
 "nbformat_minor": 0
}