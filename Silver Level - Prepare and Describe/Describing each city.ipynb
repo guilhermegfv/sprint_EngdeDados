{
 "cells": [
  {
   "cell_type": "code",
   "execution_count": 0,
   "metadata": {
    "application/vnd.databricks.v1+cell": {
     "cellMetadata": {
      "byteLimit": 2048000,
      "rowLimit": 10000
     },
     "inputWidgets": {},
     "nuid": "196e6e7e-42d5-473d-a8af-c35308f26792",
     "showTitle": false,
     "tableResultSettingsMap": {},
     "title": ""
    }
   },
   "outputs": [],
   "source": [
    "import pandas as pd\n",
    "import requests\n",
    "import time\n",
    "from datetime import datetime\n",
    "from pyspark.sql.functions import *"
   ]
  },
  {
   "cell_type": "code",
   "execution_count": 0,
   "metadata": {
    "application/vnd.databricks.v1+cell": {
     "cellMetadata": {
      "byteLimit": 2048000,
      "rowLimit": 10000
     },
     "inputWidgets": {},
     "nuid": "0970194f-e622-4fbf-9422-7f82fc6f2e48",
     "showTitle": false,
     "tableResultSettingsMap": {},
     "title": ""
    }
   },
   "outputs": [],
   "source": [
    "df_weather_spark = spark.sql(f\"\"\"SELECT * FROM delta. `/dbfs/Silver/ExtraçãoTempo` \"\"\")"
   ]
  },
  {
   "cell_type": "code",
   "execution_count": 0,
   "metadata": {
    "application/vnd.databricks.v1+cell": {
     "cellMetadata": {
      "byteLimit": 2048000,
      "rowLimit": 10000
     },
     "inputWidgets": {},
     "nuid": "ebaa714d-8ac1-4e41-870a-8fadda3a6fe9",
     "showTitle": false,
     "tableResultSettingsMap": {},
     "title": ""
    }
   },
   "outputs": [
    {
     "output_type": "stream",
     "name": "stdout",
     "output_type": "stream",
     "text": [
      "Out[7]: ['city',\n 'temperature',\n 'evapotranspiration',\n 'precipitation',\n 'humidity',\n 'time_str',\n 'date']"
     ]
    }
   ],
   "source": [
    "df_weather_spark.columns"
   ]
  },
  {
   "cell_type": "code",
   "execution_count": 0,
   "metadata": {
    "application/vnd.databricks.v1+cell": {
     "cellMetadata": {
      "byteLimit": 2048000,
      "rowLimit": 10000
     },
     "inputWidgets": {},
     "nuid": "9e3f7997-f638-46e3-b5d2-9baf2338b4a2",
     "showTitle": false,
     "tableResultSettingsMap": {},
     "title": ""
    }
   },
   "outputs": [
    {
     "output_type": "display_data",
     "data": {
      "text/html": [
       "<style scoped>\n",
       "  .table-result-container {\n",
       "    max-height: 300px;\n",
       "    overflow: auto;\n",
       "  }\n",
       "  table, th, td {\n",
       "    border: 1px solid black;\n",
       "    border-collapse: collapse;\n",
       "  }\n",
       "  th, td {\n",
       "    padding: 5px;\n",
       "  }\n",
       "  th {\n",
       "    text-align: left;\n",
       "  }\n",
       "</style><div class='table-result-container'><table class='table-result'><thead style='background-color: white'><tr><th>city</th></tr></thead><tbody><tr><td>Madrid</td></tr><tr><td>Lisbon</td></tr><tr><td>Berlin</td></tr><tr><td>London</td></tr><tr><td>Tokyo</td></tr><tr><td>Paris</td></tr><tr><td>São Paulo</td></tr><tr><td>Rio de Janeiro</td></tr><tr><td>New York</td></tr></tbody></table></div>"
      ]
     },
     "metadata": {
      "application/vnd.databricks.v1+output": {
       "addedWidgets": {},
       "aggData": [],
       "aggError": "",
       "aggOverflow": false,
       "aggSchema": [],
       "aggSeriesLimitReached": false,
       "aggType": "",
       "arguments": {},
       "columnCustomDisplayInfos": {},
       "data": [
        [
         "Madrid"
        ],
        [
         "Lisbon"
        ],
        [
         "Berlin"
        ],
        [
         "London"
        ],
        [
         "Tokyo"
        ],
        [
         "Paris"
        ],
        [
         "São Paulo"
        ],
        [
         "Rio de Janeiro"
        ],
        [
         "New York"
        ]
       ],
       "datasetInfos": [],
       "dbfsResultPath": null,
       "isJsonSchema": true,
       "metadata": {},
       "overflow": false,
       "plotOptions": {
        "customPlotOptions": {},
        "displayType": "table",
        "pivotAggregation": null,
        "pivotColumns": null,
        "xColumns": null,
        "yColumns": null
       },
       "removedWidgets": [],
       "schema": [
        {
         "metadata": "{}",
         "name": "city",
         "type": "\"string\""
        }
       ],
       "type": "table"
      }
     },
     "output_type": "display_data"
    }
   ],
   "source": [
    "df_weather_spark.select('city').distinct().display()"
   ]
  },
  {
   "cell_type": "code",
   "execution_count": 0,
   "metadata": {
    "application/vnd.databricks.v1+cell": {
     "cellMetadata": {
      "byteLimit": 2048000,
      "rowLimit": 10000
     },
     "inputWidgets": {},
     "nuid": "14285161-39c3-48ed-8c8f-7a097f96079f",
     "showTitle": false,
     "tableResultSettingsMap": {},
     "title": ""
    }
   },
   "outputs": [],
   "source": [
    "df_madrid = df_weather_spark.filter(col('city') == 'Madrid')"
   ]
  },
  {
   "cell_type": "code",
   "execution_count": 0,
   "metadata": {
    "application/vnd.databricks.v1+cell": {
     "cellMetadata": {
      "byteLimit": 2048000,
      "rowLimit": 10000
     },
     "inputWidgets": {},
     "nuid": "3ef419a7-05e1-4b7f-93f1-34a9b9cf625b",
     "showTitle": false,
     "tableResultSettingsMap": {},
     "title": ""
    }
   },
   "outputs": [
    {
     "output_type": "display_data",
     "data": {
      "text/html": [
       "<style scoped>\n",
       "  .table-result-container {\n",
       "    max-height: 300px;\n",
       "    overflow: auto;\n",
       "  }\n",
       "  table, th, td {\n",
       "    border: 1px solid black;\n",
       "    border-collapse: collapse;\n",
       "  }\n",
       "  th, td {\n",
       "    padding: 5px;\n",
       "  }\n",
       "  th {\n",
       "    text-align: left;\n",
       "  }\n",
       "</style><div class='table-result-container'><table class='table-result'><thead style='background-color: white'><tr><th>summary</th><th>city</th><th>temperature</th><th>evapotranspiration</th><th>precipitation</th><th>humidity</th><th>time_str</th></tr></thead><tbody><tr><td>count</td><td>412</td><td>412</td><td>412</td><td>412</td><td>412</td><td>412</td></tr><tr><td>mean</td><td>null</td><td>7.655339805825243</td><td>0.049271844660194165</td><td>0.1325242718446602</td><td>67.89805825242719</td><td>null</td></tr><tr><td>stddev</td><td>null</td><td>2.961232996149926</td><td>0.06365932659306395</td><td>0.4224945464088391</td><td>24.3003168226321</td><td>null</td></tr><tr><td>min</td><td>Madrid</td><td>1.0</td><td>0.0</td><td>0.0</td><td>11</td><td>00:00</td></tr><tr><td>25%</td><td>null</td><td>5.4</td><td>0.0</td><td>0.0</td><td>50</td><td>null</td></tr><tr><td>50%</td><td>null</td><td>7.6</td><td>0.02</td><td>0.0</td><td>77</td><td>null</td></tr><tr><td>75%</td><td>null</td><td>9.9</td><td>0.06</td><td>0.0</td><td>87</td><td>null</td></tr><tr><td>max</td><td>Madrid</td><td>14.2</td><td>0.26</td><td>4.4</td><td>99</td><td>23:00</td></tr></tbody></table></div>"
      ]
     },
     "metadata": {
      "application/vnd.databricks.v1+output": {
       "addedWidgets": {},
       "aggData": [],
       "aggError": "",
       "aggOverflow": false,
       "aggSchema": [],
       "aggSeriesLimitReached": false,
       "aggType": "",
       "arguments": {},
       "columnCustomDisplayInfos": {},
       "data": [
        [
         "count",
         "412",
         "412",
         "412",
         "412",
         "412",
         "412"
        ],
        [
         "mean",
         null,
         "7.655339805825243",
         "0.049271844660194165",
         "0.1325242718446602",
         "67.89805825242719",
         null
        ],
        [
         "stddev",
         null,
         "2.961232996149926",
         "0.06365932659306395",
         "0.4224945464088391",
         "24.3003168226321",
         null
        ],
        [
         "min",
         "Madrid",
         "1.0",
         "0.0",
         "0.0",
         "11",
         "00:00"
        ],
        [
         "25%",
         null,
         "5.4",
         "0.0",
         "0.0",
         "50",
         null
        ],
        [
         "50%",
         null,
         "7.6",
         "0.02",
         "0.0",
         "77",
         null
        ],
        [
         "75%",
         null,
         "9.9",
         "0.06",
         "0.0",
         "87",
         null
        ],
        [
         "max",
         "Madrid",
         "14.2",
         "0.26",
         "4.4",
         "99",
         "23:00"
        ]
       ],
       "datasetInfos": [],
       "dbfsResultPath": null,
       "isJsonSchema": true,
       "metadata": {},
       "overflow": false,
       "plotOptions": {
        "customPlotOptions": {},
        "displayType": "table",
        "pivotAggregation": null,
        "pivotColumns": null,
        "xColumns": null,
        "yColumns": null
       },
       "removedWidgets": [],
       "schema": [
        {
         "metadata": "{}",
         "name": "summary",
         "type": "\"string\""
        },
        {
         "metadata": "{}",
         "name": "city",
         "type": "\"string\""
        },
        {
         "metadata": "{}",
         "name": "temperature",
         "type": "\"string\""
        },
        {
         "metadata": "{}",
         "name": "evapotranspiration",
         "type": "\"string\""
        },
        {
         "metadata": "{}",
         "name": "precipitation",
         "type": "\"string\""
        },
        {
         "metadata": "{}",
         "name": "humidity",
         "type": "\"string\""
        },
        {
         "metadata": "{}",
         "name": "time_str",
         "type": "\"string\""
        }
       ],
       "type": "table"
      }
     },
     "output_type": "display_data"
    }
   ],
   "source": [
    "df_madrid.summary().display()"
   ]
  },
  {
   "cell_type": "code",
   "execution_count": 0,
   "metadata": {
    "application/vnd.databricks.v1+cell": {
     "cellMetadata": {
      "byteLimit": 2048000,
      "rowLimit": 10000
     },
     "inputWidgets": {},
     "nuid": "b31e72db-d09d-478f-b9ba-beae1e2bc405",
     "showTitle": false,
     "tableResultSettingsMap": {},
     "title": ""
    }
   },
   "outputs": [],
   "source": [
    "df_madrid_summary = df_madrid.summary()\n",
    "df_madrid_summary = df_madrid_summary.select('city','temperature', 'evapotranspiration','precipitation','humidity')\n",
    "df_madrid_summary = df_madrid_summary.filter(col('summary').isin('min','mean','max'))"
   ]
  },
  {
   "cell_type": "code",
   "execution_count": 0,
   "metadata": {
    "application/vnd.databricks.v1+cell": {
     "cellMetadata": {
      "byteLimit": 2048000,
      "rowLimit": 10000
     },
     "inputWidgets": {},
     "nuid": "516454f9-b1f3-4d36-9009-6be7c43aead3",
     "showTitle": false,
     "tableResultSettingsMap": {},
     "title": ""
    }
   },
   "outputs": [
    {
     "output_type": "stream",
     "name": "stdout",
     "output_type": "stream",
     "text": [
      "+-----------+----------+\n|DataInicial| DataFinal|\n+-----------+----------+\n| 2025-01-13|2025-01-31|\n+-----------+----------+\n\n"
     ]
    },
    {
     "output_type": "display_data",
     "data": {
      "text/html": [
       "<style scoped>\n",
       "  .table-result-container {\n",
       "    max-height: 300px;\n",
       "    overflow: auto;\n",
       "  }\n",
       "  table, th, td {\n",
       "    border: 1px solid black;\n",
       "    border-collapse: collapse;\n",
       "  }\n",
       "  th, td {\n",
       "    padding: 5px;\n",
       "  }\n",
       "  th {\n",
       "    text-align: left;\n",
       "  }\n",
       "</style><div class='table-result-container'><table class='table-result'><thead style='background-color: white'><tr><th>city</th><th>temperature</th><th>evapotranspiration</th><th>precipitation</th><th>humidity</th></tr></thead><tbody><tr><td>null</td><td>7.655339805825243</td><td>0.049271844660194165</td><td>0.1325242718446602</td><td>67.89805825242719</td></tr><tr><td>Madrid</td><td>1.0</td><td>0.0</td><td>0.0</td><td>11</td></tr><tr><td>Madrid</td><td>14.2</td><td>0.26</td><td>4.4</td><td>99</td></tr></tbody></table></div>"
      ]
     },
     "metadata": {
      "application/vnd.databricks.v1+output": {
       "addedWidgets": {},
       "aggData": [],
       "aggError": "",
       "aggOverflow": false,
       "aggSchema": [],
       "aggSeriesLimitReached": false,
       "aggType": "",
       "arguments": {},
       "columnCustomDisplayInfos": {},
       "data": [
        [
         null,
         "7.655339805825243",
         "0.049271844660194165",
         "0.1325242718446602",
         "67.89805825242719"
        ],
        [
         "Madrid",
         "1.0",
         "0.0",
         "0.0",
         "11"
        ],
        [
         "Madrid",
         "14.2",
         "0.26",
         "4.4",
         "99"
        ]
       ],
       "datasetInfos": [],
       "dbfsResultPath": null,
       "isJsonSchema": true,
       "metadata": {},
       "overflow": false,
       "plotOptions": {
        "customPlotOptions": {},
        "displayType": "table",
        "pivotAggregation": null,
        "pivotColumns": null,
        "xColumns": null,
        "yColumns": null
       },
       "removedWidgets": [],
       "schema": [
        {
         "metadata": "{}",
         "name": "city",
         "type": "\"string\""
        },
        {
         "metadata": "{}",
         "name": "temperature",
         "type": "\"string\""
        },
        {
         "metadata": "{}",
         "name": "evapotranspiration",
         "type": "\"string\""
        },
        {
         "metadata": "{}",
         "name": "precipitation",
         "type": "\"string\""
        },
        {
         "metadata": "{}",
         "name": "humidity",
         "type": "\"string\""
        }
       ],
       "type": "table"
      }
     },
     "output_type": "display_data"
    }
   ],
   "source": [
    "df_madrid.select(min(\"date\").alias(\"DataInicial\"),\n",
    "          max(\"date\").alias(\"DataFinal\")).show()\n",
    "df_madrid_summary.display()"
   ]
  },
  {
   "cell_type": "code",
   "execution_count": 0,
   "metadata": {
    "application/vnd.databricks.v1+cell": {
     "cellMetadata": {
      "byteLimit": 2048000,
      "rowLimit": 10000
     },
     "inputWidgets": {},
     "nuid": "38a07c85-fd13-4111-bcb1-c5664b33016d",
     "showTitle": false,
     "tableResultSettingsMap": {},
     "title": ""
    }
   },
   "outputs": [
    {
     "output_type": "stream",
     "name": "stdout",
     "output_type": "stream",
     "text": [
      "+-----------+----------+\n|DataInicial| DataFinal|\n+-----------+----------+\n| 2025-01-13|2025-01-31|\n+-----------+----------+\n\n"
     ]
    },
    {
     "output_type": "display_data",
     "data": {
      "text/html": [
       "<style scoped>\n",
       "  .table-result-container {\n",
       "    max-height: 300px;\n",
       "    overflow: auto;\n",
       "  }\n",
       "  table, th, td {\n",
       "    border: 1px solid black;\n",
       "    border-collapse: collapse;\n",
       "  }\n",
       "  th, td {\n",
       "    padding: 5px;\n",
       "  }\n",
       "  th {\n",
       "    text-align: left;\n",
       "  }\n",
       "</style><div class='table-result-container'><table class='table-result'><thead style='background-color: white'><tr><th>city</th><th>temperature</th><th>evapotranspiration</th><th>precipitation</th><th>humidity</th></tr></thead><tbody><tr><td>null</td><td>12.848184019370462</td><td>0.0677966101694915</td><td>0.20968523002421305</td><td>74.37046004842615</td></tr><tr><td>Lisbon</td><td>6.1</td><td>0.0</td><td>0.0</td><td>26</td></tr><tr><td>Lisbon</td><td>17.6</td><td>0.3</td><td>3.6</td><td>99</td></tr></tbody></table></div>"
      ]
     },
     "metadata": {
      "application/vnd.databricks.v1+output": {
       "addedWidgets": {},
       "aggData": [],
       "aggError": "",
       "aggOverflow": false,
       "aggSchema": [],
       "aggSeriesLimitReached": false,
       "aggType": "",
       "arguments": {},
       "columnCustomDisplayInfos": {},
       "data": [
        [
         null,
         "12.848184019370462",
         "0.0677966101694915",
         "0.20968523002421305",
         "74.37046004842615"
        ],
        [
         "Lisbon",
         "6.1",
         "0.0",
         "0.0",
         "26"
        ],
        [
         "Lisbon",
         "17.6",
         "0.3",
         "3.6",
         "99"
        ]
       ],
       "datasetInfos": [],
       "dbfsResultPath": null,
       "isJsonSchema": true,
       "metadata": {},
       "overflow": false,
       "plotOptions": {
        "customPlotOptions": {},
        "displayType": "table",
        "pivotAggregation": null,
        "pivotColumns": null,
        "xColumns": null,
        "yColumns": null
       },
       "removedWidgets": [],
       "schema": [
        {
         "metadata": "{}",
         "name": "city",
         "type": "\"string\""
        },
        {
         "metadata": "{}",
         "name": "temperature",
         "type": "\"string\""
        },
        {
         "metadata": "{}",
         "name": "evapotranspiration",
         "type": "\"string\""
        },
        {
         "metadata": "{}",
         "name": "precipitation",
         "type": "\"string\""
        },
        {
         "metadata": "{}",
         "name": "humidity",
         "type": "\"string\""
        }
       ],
       "type": "table"
      }
     },
     "output_type": "display_data"
    }
   ],
   "source": [
    "df_lisbon = df_weather_spark.filter(col('city') == 'Lisbon')\n",
    "df_lisbon_summary = df_lisbon.summary()\n",
    "df_lisbon_summary = df_lisbon_summary.select('city','temperature', 'evapotranspiration','precipitation','humidity')\n",
    "df_lisbon_summary = df_lisbon_summary.filter(col('summary').isin('min','mean','max'))\n",
    "df_lisbon.select(min(\"date\").alias(\"DataInicial\"),\n",
    "          max(\"date\").alias(\"DataFinal\")).show()\n",
    "df_lisbon_summary.display()"
   ]
  },
  {
   "cell_type": "code",
   "execution_count": 0,
   "metadata": {
    "application/vnd.databricks.v1+cell": {
     "cellMetadata": {
      "byteLimit": 2048000,
      "rowLimit": 10000
     },
     "inputWidgets": {},
     "nuid": "d452b11d-fda1-4f39-8f25-7c624ff7b6d2",
     "showTitle": false,
     "tableResultSettingsMap": {},
     "title": ""
    }
   },
   "outputs": [
    {
     "output_type": "stream",
     "name": "stdout",
     "output_type": "stream",
     "text": [
      "+-----------+----------+\n|DataInicial| DataFinal|\n+-----------+----------+\n| 2025-01-13|2025-01-31|\n+-----------+----------+\n\n"
     ]
    },
    {
     "output_type": "display_data",
     "data": {
      "text/html": [
       "<style scoped>\n",
       "  .table-result-container {\n",
       "    max-height: 300px;\n",
       "    overflow: auto;\n",
       "  }\n",
       "  table, th, td {\n",
       "    border: 1px solid black;\n",
       "    border-collapse: collapse;\n",
       "  }\n",
       "  th, td {\n",
       "    padding: 5px;\n",
       "  }\n",
       "  th {\n",
       "    text-align: left;\n",
       "  }\n",
       "</style><div class='table-result-container'><table class='table-result'><thead style='background-color: white'><tr><th>city</th><th>temperature</th><th>evapotranspiration</th><th>precipitation</th><th>humidity</th></tr></thead><tbody><tr><td>null</td><td>4.084708737864078</td><td>0.021262135922330106</td><td>0.06262135922330096</td><td>79.9878640776699</td></tr><tr><td>Berlin</td><td>-1.6</td><td>0.0</td><td>0.0</td><td>43</td></tr><tr><td>Berlin</td><td>12.9</td><td>0.11</td><td>1.9</td><td>98</td></tr></tbody></table></div>"
      ]
     },
     "metadata": {
      "application/vnd.databricks.v1+output": {
       "addedWidgets": {},
       "aggData": [],
       "aggError": "",
       "aggOverflow": false,
       "aggSchema": [],
       "aggSeriesLimitReached": false,
       "aggType": "",
       "arguments": {},
       "columnCustomDisplayInfos": {},
       "data": [
        [
         null,
         "4.084708737864078",
         "0.021262135922330106",
         "0.06262135922330096",
         "79.9878640776699"
        ],
        [
         "Berlin",
         "-1.6",
         "0.0",
         "0.0",
         "43"
        ],
        [
         "Berlin",
         "12.9",
         "0.11",
         "1.9",
         "98"
        ]
       ],
       "datasetInfos": [],
       "dbfsResultPath": null,
       "isJsonSchema": true,
       "metadata": {},
       "overflow": false,
       "plotOptions": {
        "customPlotOptions": {},
        "displayType": "table",
        "pivotAggregation": null,
        "pivotColumns": null,
        "xColumns": null,
        "yColumns": null
       },
       "removedWidgets": [],
       "schema": [
        {
         "metadata": "{}",
         "name": "city",
         "type": "\"string\""
        },
        {
         "metadata": "{}",
         "name": "temperature",
         "type": "\"string\""
        },
        {
         "metadata": "{}",
         "name": "evapotranspiration",
         "type": "\"string\""
        },
        {
         "metadata": "{}",
         "name": "precipitation",
         "type": "\"string\""
        },
        {
         "metadata": "{}",
         "name": "humidity",
         "type": "\"string\""
        }
       ],
       "type": "table"
      }
     },
     "output_type": "display_data"
    }
   ],
   "source": [
    "df_berlin = df_weather_spark.filter(col('city') == 'Berlin')\n",
    "df_berlin_summary = df_berlin.summary()\n",
    "df_berlin_summary = df_berlin_summary.select('city','temperature', 'evapotranspiration','precipitation','humidity')\n",
    "df_berlin_summary = df_berlin_summary.filter(col('summary').isin('min','mean','max'))\n",
    "df_berlin.select(min(\"date\").alias(\"DataInicial\"),\n",
    "          max(\"date\").alias(\"DataFinal\")).show()\n",
    "df_berlin_summary.display()"
   ]
  },
  {
   "cell_type": "code",
   "execution_count": 0,
   "metadata": {
    "application/vnd.databricks.v1+cell": {
     "cellMetadata": {
      "byteLimit": 2048000,
      "rowLimit": 10000
     },
     "inputWidgets": {},
     "nuid": "37d18efc-64bf-4434-a357-ec2878cf0835",
     "showTitle": false,
     "tableResultSettingsMap": {},
     "title": ""
    }
   },
   "outputs": [
    {
     "output_type": "stream",
     "name": "stdout",
     "output_type": "stream",
     "text": [
      "+-----------+----------+\n|DataInicial| DataFinal|\n+-----------+----------+\n| 2025-01-13|2025-01-31|\n+-----------+----------+\n\n"
     ]
    },
    {
     "output_type": "display_data",
     "data": {
      "text/html": [
       "<style scoped>\n",
       "  .table-result-container {\n",
       "    max-height: 300px;\n",
       "    overflow: auto;\n",
       "  }\n",
       "  table, th, td {\n",
       "    border: 1px solid black;\n",
       "    border-collapse: collapse;\n",
       "  }\n",
       "  th, td {\n",
       "    padding: 5px;\n",
       "  }\n",
       "  th {\n",
       "    text-align: left;\n",
       "  }\n",
       "</style><div class='table-result-container'><table class='table-result'><thead style='background-color: white'><tr><th>city</th><th>temperature</th><th>evapotranspiration</th><th>precipitation</th><th>humidity</th></tr></thead><tbody><tr><td>null</td><td>5.312348668280872</td><td>0.02312348668280873</td><td>0.06779661016949153</td><td>82.47941888619854</td></tr><tr><td>London</td><td>1.0</td><td>0.0</td><td>0.0</td><td>51</td></tr><tr><td>London</td><td>11.2</td><td>0.14</td><td>3.2</td><td>98</td></tr></tbody></table></div>"
      ]
     },
     "metadata": {
      "application/vnd.databricks.v1+output": {
       "addedWidgets": {},
       "aggData": [],
       "aggError": "",
       "aggOverflow": false,
       "aggSchema": [],
       "aggSeriesLimitReached": false,
       "aggType": "",
       "arguments": {},
       "columnCustomDisplayInfos": {},
       "data": [
        [
         null,
         "5.312348668280872",
         "0.02312348668280873",
         "0.06779661016949153",
         "82.47941888619854"
        ],
        [
         "London",
         "1.0",
         "0.0",
         "0.0",
         "51"
        ],
        [
         "London",
         "11.2",
         "0.14",
         "3.2",
         "98"
        ]
       ],
       "datasetInfos": [],
       "dbfsResultPath": null,
       "isJsonSchema": true,
       "metadata": {},
       "overflow": false,
       "plotOptions": {
        "customPlotOptions": {},
        "displayType": "table",
        "pivotAggregation": null,
        "pivotColumns": null,
        "xColumns": null,
        "yColumns": null
       },
       "removedWidgets": [],
       "schema": [
        {
         "metadata": "{}",
         "name": "city",
         "type": "\"string\""
        },
        {
         "metadata": "{}",
         "name": "temperature",
         "type": "\"string\""
        },
        {
         "metadata": "{}",
         "name": "evapotranspiration",
         "type": "\"string\""
        },
        {
         "metadata": "{}",
         "name": "precipitation",
         "type": "\"string\""
        },
        {
         "metadata": "{}",
         "name": "humidity",
         "type": "\"string\""
        }
       ],
       "type": "table"
      }
     },
     "output_type": "display_data"
    }
   ],
   "source": [
    "df_london = df_weather_spark.filter(col('city') == 'London')\n",
    "df_london_summary = df_london.summary()\n",
    "df_london_summary = df_london_summary.select('city','temperature', 'evapotranspiration','precipitation','humidity')\n",
    "df_london_summary = df_london_summary.filter(col('summary').isin('min','mean','max'))\n",
    "df_london.select(min(\"date\").alias(\"DataInicial\"),\n",
    "          max(\"date\").alias(\"DataFinal\")).show()\n",
    "df_london_summary.display()"
   ]
  },
  {
   "cell_type": "code",
   "execution_count": 0,
   "metadata": {
    "application/vnd.databricks.v1+cell": {
     "cellMetadata": {
      "byteLimit": 2048000,
      "rowLimit": 10000
     },
     "inputWidgets": {},
     "nuid": "0e2a68db-73fe-4e32-ba19-52a1769c8ca9",
     "showTitle": false,
     "tableResultSettingsMap": {},
     "title": ""
    }
   },
   "outputs": [
    {
     "output_type": "stream",
     "name": "stdout",
     "output_type": "stream",
     "text": [
      "+-----------+----------+\n|DataInicial| DataFinal|\n+-----------+----------+\n| 2025-01-14|2025-01-31|\n+-----------+----------+\n\n"
     ]
    },
    {
     "output_type": "display_data",
     "data": {
      "text/html": [
       "<style scoped>\n",
       "  .table-result-container {\n",
       "    max-height: 300px;\n",
       "    overflow: auto;\n",
       "  }\n",
       "  table, th, td {\n",
       "    border: 1px solid black;\n",
       "    border-collapse: collapse;\n",
       "  }\n",
       "  th, td {\n",
       "    padding: 5px;\n",
       "  }\n",
       "  th {\n",
       "    text-align: left;\n",
       "  }\n",
       "</style><div class='table-result-container'><table class='table-result'><thead style='background-color: white'><tr><th>city</th><th>temperature</th><th>evapotranspiration</th><th>precipitation</th><th>humidity</th></tr></thead><tbody><tr><td>null</td><td>7.037530864197532</td><td>0.09264197530864195</td><td>0.006666666666666667</td><td>46.28395061728395</td></tr><tr><td>Tokyo</td><td>-0.4</td><td>0.0</td><td>0.0</td><td>20</td></tr><tr><td>Tokyo</td><td>14.7</td><td>0.33</td><td>0.6</td><td>80</td></tr></tbody></table></div>"
      ]
     },
     "metadata": {
      "application/vnd.databricks.v1+output": {
       "addedWidgets": {},
       "aggData": [],
       "aggError": "",
       "aggOverflow": false,
       "aggSchema": [],
       "aggSeriesLimitReached": false,
       "aggType": "",
       "arguments": {},
       "columnCustomDisplayInfos": {},
       "data": [
        [
         null,
         "7.037530864197532",
         "0.09264197530864195",
         "0.006666666666666667",
         "46.28395061728395"
        ],
        [
         "Tokyo",
         "-0.4",
         "0.0",
         "0.0",
         "20"
        ],
        [
         "Tokyo",
         "14.7",
         "0.33",
         "0.6",
         "80"
        ]
       ],
       "datasetInfos": [],
       "dbfsResultPath": null,
       "isJsonSchema": true,
       "metadata": {},
       "overflow": false,
       "plotOptions": {
        "customPlotOptions": {},
        "displayType": "table",
        "pivotAggregation": null,
        "pivotColumns": null,
        "xColumns": null,
        "yColumns": null
       },
       "removedWidgets": [],
       "schema": [
        {
         "metadata": "{}",
         "name": "city",
         "type": "\"string\""
        },
        {
         "metadata": "{}",
         "name": "temperature",
         "type": "\"string\""
        },
        {
         "metadata": "{}",
         "name": "evapotranspiration",
         "type": "\"string\""
        },
        {
         "metadata": "{}",
         "name": "precipitation",
         "type": "\"string\""
        },
        {
         "metadata": "{}",
         "name": "humidity",
         "type": "\"string\""
        }
       ],
       "type": "table"
      }
     },
     "output_type": "display_data"
    }
   ],
   "source": [
    "df_tokyo = df_weather_spark.filter(col('city') == 'Tokyo')\n",
    "df_tokyo_summary = df_tokyo.summary()\n",
    "df_tokyo_summary = df_tokyo_summary.select('city','temperature', 'evapotranspiration','precipitation','humidity')\n",
    "df_tokyo_summary = df_tokyo_summary.filter(col('summary').isin('min','mean','max'))\n",
    "df_tokyo.select(min(\"date\").alias(\"DataInicial\"),\n",
    "          max(\"date\").alias(\"DataFinal\")).show()\n",
    "df_tokyo_summary.display()"
   ]
  },
  {
   "cell_type": "code",
   "execution_count": 0,
   "metadata": {
    "application/vnd.databricks.v1+cell": {
     "cellMetadata": {
      "byteLimit": 2048000,
      "rowLimit": 10000
     },
     "inputWidgets": {},
     "nuid": "bf0c8926-7a6e-4d14-b4cc-ab9b02577904",
     "showTitle": false,
     "tableResultSettingsMap": {},
     "title": ""
    }
   },
   "outputs": [
    {
     "output_type": "stream",
     "name": "stdout",
     "output_type": "stream",
     "text": [
      "+-----------+----------+\n|DataInicial| DataFinal|\n+-----------+----------+\n| 2025-01-13|2025-01-31|\n+-----------+----------+\n\n"
     ]
    },
    {
     "output_type": "display_data",
     "data": {
      "text/html": [
       "<style scoped>\n",
       "  .table-result-container {\n",
       "    max-height: 300px;\n",
       "    overflow: auto;\n",
       "  }\n",
       "  table, th, td {\n",
       "    border: 1px solid black;\n",
       "    border-collapse: collapse;\n",
       "  }\n",
       "  th, td {\n",
       "    padding: 5px;\n",
       "  }\n",
       "  th {\n",
       "    text-align: left;\n",
       "  }\n",
       "</style><div class='table-result-container'><table class='table-result'><thead style='background-color: white'><tr><th>city</th><th>temperature</th><th>evapotranspiration</th><th>precipitation</th><th>humidity</th></tr></thead><tbody><tr><td>null</td><td>5.04635922330097</td><td>0.0258980582524272</td><td>0.13058252427184466</td><td>80.6116504854369</td></tr><tr><td>Paris</td><td>-0.3</td><td>0.0</td><td>0.0</td><td>33</td></tr><tr><td>Paris</td><td>11.6</td><td>0.15</td><td>5.2</td><td>99</td></tr></tbody></table></div>"
      ]
     },
     "metadata": {
      "application/vnd.databricks.v1+output": {
       "addedWidgets": {},
       "aggData": [],
       "aggError": "",
       "aggOverflow": false,
       "aggSchema": [],
       "aggSeriesLimitReached": false,
       "aggType": "",
       "arguments": {},
       "columnCustomDisplayInfos": {},
       "data": [
        [
         null,
         "5.04635922330097",
         "0.0258980582524272",
         "0.13058252427184466",
         "80.6116504854369"
        ],
        [
         "Paris",
         "-0.3",
         "0.0",
         "0.0",
         "33"
        ],
        [
         "Paris",
         "11.6",
         "0.15",
         "5.2",
         "99"
        ]
       ],
       "datasetInfos": [],
       "dbfsResultPath": null,
       "isJsonSchema": true,
       "metadata": {},
       "overflow": false,
       "plotOptions": {
        "customPlotOptions": {},
        "displayType": "table",
        "pivotAggregation": null,
        "pivotColumns": null,
        "xColumns": null,
        "yColumns": null
       },
       "removedWidgets": [],
       "schema": [
        {
         "metadata": "{}",
         "name": "city",
         "type": "\"string\""
        },
        {
         "metadata": "{}",
         "name": "temperature",
         "type": "\"string\""
        },
        {
         "metadata": "{}",
         "name": "evapotranspiration",
         "type": "\"string\""
        },
        {
         "metadata": "{}",
         "name": "precipitation",
         "type": "\"string\""
        },
        {
         "metadata": "{}",
         "name": "humidity",
         "type": "\"string\""
        }
       ],
       "type": "table"
      }
     },
     "output_type": "display_data"
    }
   ],
   "source": [
    "df_paris = df_weather_spark.filter(col('city') == 'Paris')\n",
    "df_paris_summary = df_paris.summary()\n",
    "df_paris_summary = df_paris_summary.select('city','temperature', 'evapotranspiration','precipitation','humidity')\n",
    "df_paris_summary = df_paris_summary.filter(col('summary').isin('min','mean','max'))\n",
    "df_paris.select(min(\"date\").alias(\"DataInicial\"),\n",
    "          max(\"date\").alias(\"DataFinal\")).show()\n",
    "df_paris_summary.display()"
   ]
  },
  {
   "cell_type": "code",
   "execution_count": 0,
   "metadata": {
    "application/vnd.databricks.v1+cell": {
     "cellMetadata": {
      "byteLimit": 2048000,
      "rowLimit": 10000
     },
     "inputWidgets": {},
     "nuid": "5a9821c2-efc6-4b2f-9ae7-0804d80065b9",
     "showTitle": false,
     "tableResultSettingsMap": {},
     "title": ""
    }
   },
   "outputs": [
    {
     "output_type": "stream",
     "name": "stdout",
     "output_type": "stream",
     "text": [
      "+-----------+----------+\n|DataInicial| DataFinal|\n+-----------+----------+\n| 2025-01-13|2025-01-31|\n+-----------+----------+\n\n"
     ]
    },
    {
     "output_type": "display_data",
     "data": {
      "text/html": [
       "<style scoped>\n",
       "  .table-result-container {\n",
       "    max-height: 300px;\n",
       "    overflow: auto;\n",
       "  }\n",
       "  table, th, td {\n",
       "    border: 1px solid black;\n",
       "    border-collapse: collapse;\n",
       "  }\n",
       "  th, td {\n",
       "    padding: 5px;\n",
       "  }\n",
       "  th {\n",
       "    text-align: left;\n",
       "  }\n",
       "</style><div class='table-result-container'><table class='table-result'><thead style='background-color: white'><tr><th>city</th><th>temperature</th><th>evapotranspiration</th><th>precipitation</th><th>humidity</th></tr></thead><tbody><tr><td>null</td><td>26.224700239808154</td><td>0.21956834532374098</td><td>0.27961630695443646</td><td>74.49880095923261</td></tr><tr><td>São Paulo</td><td>20.7</td><td>0.0</td><td>0.0</td><td>31</td></tr><tr><td>São Paulo</td><td>36.2</td><td>0.87</td><td>16.5</td><td>99</td></tr></tbody></table></div>"
      ]
     },
     "metadata": {
      "application/vnd.databricks.v1+output": {
       "addedWidgets": {},
       "aggData": [],
       "aggError": "",
       "aggOverflow": false,
       "aggSchema": [],
       "aggSeriesLimitReached": false,
       "aggType": "",
       "arguments": {},
       "columnCustomDisplayInfos": {},
       "data": [
        [
         null,
         "26.224700239808154",
         "0.21956834532374098",
         "0.27961630695443646",
         "74.49880095923261"
        ],
        [
         "São Paulo",
         "20.7",
         "0.0",
         "0.0",
         "31"
        ],
        [
         "São Paulo",
         "36.2",
         "0.87",
         "16.5",
         "99"
        ]
       ],
       "datasetInfos": [],
       "dbfsResultPath": null,
       "isJsonSchema": true,
       "metadata": {},
       "overflow": false,
       "plotOptions": {
        "customPlotOptions": {},
        "displayType": "table",
        "pivotAggregation": null,
        "pivotColumns": null,
        "xColumns": null,
        "yColumns": null
       },
       "removedWidgets": [],
       "schema": [
        {
         "metadata": "{}",
         "name": "city",
         "type": "\"string\""
        },
        {
         "metadata": "{}",
         "name": "temperature",
         "type": "\"string\""
        },
        {
         "metadata": "{}",
         "name": "evapotranspiration",
         "type": "\"string\""
        },
        {
         "metadata": "{}",
         "name": "precipitation",
         "type": "\"string\""
        },
        {
         "metadata": "{}",
         "name": "humidity",
         "type": "\"string\""
        }
       ],
       "type": "table"
      }
     },
     "output_type": "display_data"
    }
   ],
   "source": [
    "df_saopaulo = df_weather_spark.filter(col('city') == 'São Paulo')\n",
    "df_saopaulo_summary = df_saopaulo.summary()\n",
    "df_saopaulo_summary = df_saopaulo_summary.select('city','temperature', 'evapotranspiration','precipitation','humidity')\n",
    "df_saopaulo_summary = df_saopaulo_summary.filter(col('summary').isin('min','mean','max'))\n",
    "df_saopaulo.select(min(\"date\").alias(\"DataInicial\"),\n",
    "          max(\"date\").alias(\"DataFinal\")).show()\n",
    "df_saopaulo_summary.display()"
   ]
  },
  {
   "cell_type": "code",
   "execution_count": 0,
   "metadata": {
    "application/vnd.databricks.v1+cell": {
     "cellMetadata": {
      "byteLimit": 2048000,
      "rowLimit": 10000
     },
     "inputWidgets": {},
     "nuid": "1e100c80-10be-4167-911d-fdf3866c0543",
     "showTitle": false,
     "tableResultSettingsMap": {},
     "title": ""
    }
   },
   "outputs": [
    {
     "output_type": "stream",
     "name": "stdout",
     "output_type": "stream",
     "text": [
      "+-----------+----------+\n|DataInicial| DataFinal|\n+-----------+----------+\n| 2025-01-13|2025-01-31|\n+-----------+----------+\n\n"
     ]
    },
    {
     "output_type": "display_data",
     "data": {
      "text/html": [
       "<style scoped>\n",
       "  .table-result-container {\n",
       "    max-height: 300px;\n",
       "    overflow: auto;\n",
       "  }\n",
       "  table, th, td {\n",
       "    border: 1px solid black;\n",
       "    border-collapse: collapse;\n",
       "  }\n",
       "  th, td {\n",
       "    padding: 5px;\n",
       "  }\n",
       "  th {\n",
       "    text-align: left;\n",
       "  }\n",
       "</style><div class='table-result-container'><table class='table-result'><thead style='background-color: white'><tr><th>city</th><th>temperature</th><th>evapotranspiration</th><th>precipitation</th><th>humidity</th></tr></thead><tbody><tr><td>null</td><td>28.099280575539566</td><td>0.2057793764988009</td><td>0.08465227817745803</td><td>69.01918465227818</td></tr><tr><td>Rio de Janeiro</td><td>20.9</td><td>0.0</td><td>0.0</td><td>31</td></tr><tr><td>Rio de Janeiro</td><td>38.6</td><td>0.88</td><td>4.3</td><td>99</td></tr></tbody></table></div>"
      ]
     },
     "metadata": {
      "application/vnd.databricks.v1+output": {
       "addedWidgets": {},
       "aggData": [],
       "aggError": "",
       "aggOverflow": false,
       "aggSchema": [],
       "aggSeriesLimitReached": false,
       "aggType": "",
       "arguments": {},
       "columnCustomDisplayInfos": {},
       "data": [
        [
         null,
         "28.099280575539566",
         "0.2057793764988009",
         "0.08465227817745803",
         "69.01918465227818"
        ],
        [
         "Rio de Janeiro",
         "20.9",
         "0.0",
         "0.0",
         "31"
        ],
        [
         "Rio de Janeiro",
         "38.6",
         "0.88",
         "4.3",
         "99"
        ]
       ],
       "datasetInfos": [],
       "dbfsResultPath": null,
       "isJsonSchema": true,
       "metadata": {},
       "overflow": false,
       "plotOptions": {
        "customPlotOptions": {},
        "displayType": "table",
        "pivotAggregation": null,
        "pivotColumns": null,
        "xColumns": null,
        "yColumns": null
       },
       "removedWidgets": [],
       "schema": [
        {
         "metadata": "{}",
         "name": "city",
         "type": "\"string\""
        },
        {
         "metadata": "{}",
         "name": "temperature",
         "type": "\"string\""
        },
        {
         "metadata": "{}",
         "name": "evapotranspiration",
         "type": "\"string\""
        },
        {
         "metadata": "{}",
         "name": "precipitation",
         "type": "\"string\""
        },
        {
         "metadata": "{}",
         "name": "humidity",
         "type": "\"string\""
        }
       ],
       "type": "table"
      }
     },
     "output_type": "display_data"
    }
   ],
   "source": [
    "df_rio = df_weather_spark.filter(col('city') == 'Rio de Janeiro')\n",
    "df_rio_summary = df_rio.summary()\n",
    "df_rio_summary = df_rio_summary.select('city','temperature', 'evapotranspiration','precipitation','humidity')\n",
    "df_rio_summary = df_rio_summary.filter(col('summary').isin('min','mean','max'))\n",
    "df_rio.select(min(\"date\").alias(\"DataInicial\"),\n",
    "          max(\"date\").alias(\"DataFinal\")).show()\n",
    "df_rio_summary.display()"
   ]
  },
  {
   "cell_type": "code",
   "execution_count": 0,
   "metadata": {
    "application/vnd.databricks.v1+cell": {
     "cellMetadata": {
      "byteLimit": 2048000,
      "rowLimit": 10000
     },
     "inputWidgets": {},
     "nuid": "11d592bc-0680-446f-af73-f2cebaf94bde",
     "showTitle": false,
     "tableResultSettingsMap": {},
     "title": ""
    }
   },
   "outputs": [
    {
     "output_type": "stream",
     "name": "stdout",
     "output_type": "stream",
     "text": [
      "+-----------+----------+\n|DataInicial| DataFinal|\n+-----------+----------+\n| 2025-01-13|2025-01-31|\n+-----------+----------+\n\n"
     ]
    },
    {
     "output_type": "display_data",
     "data": {
      "text/html": [
       "<style scoped>\n",
       "  .table-result-container {\n",
       "    max-height: 300px;\n",
       "    overflow: auto;\n",
       "  }\n",
       "  table, th, td {\n",
       "    border: 1px solid black;\n",
       "    border-collapse: collapse;\n",
       "  }\n",
       "  th, td {\n",
       "    padding: 5px;\n",
       "  }\n",
       "  th {\n",
       "    text-align: left;\n",
       "  }\n",
       "</style><div class='table-result-container'><table class='table-result'><thead style='background-color: white'><tr><th>city</th><th>temperature</th><th>evapotranspiration</th><th>precipitation</th><th>humidity</th></tr></thead><tbody><tr><td>null</td><td>-1.4282296650717705</td><td>0.05751196172248803</td><td>0.028468899521531102</td><td>54.485645933014354</td></tr><tr><td>New York</td><td>-11.0</td><td>0.0</td><td>0.0</td><td>20</td></tr><tr><td>New York</td><td>11.1</td><td>0.26</td><td>2.8</td><td>98</td></tr></tbody></table></div>"
      ]
     },
     "metadata": {
      "application/vnd.databricks.v1+output": {
       "addedWidgets": {},
       "aggData": [],
       "aggError": "",
       "aggOverflow": false,
       "aggSchema": [],
       "aggSeriesLimitReached": false,
       "aggType": "",
       "arguments": {},
       "columnCustomDisplayInfos": {},
       "data": [
        [
         null,
         "-1.4282296650717705",
         "0.05751196172248803",
         "0.028468899521531102",
         "54.485645933014354"
        ],
        [
         "New York",
         "-11.0",
         "0.0",
         "0.0",
         "20"
        ],
        [
         "New York",
         "11.1",
         "0.26",
         "2.8",
         "98"
        ]
       ],
       "datasetInfos": [],
       "dbfsResultPath": null,
       "isJsonSchema": true,
       "metadata": {},
       "overflow": false,
       "plotOptions": {
        "customPlotOptions": {},
        "displayType": "table",
        "pivotAggregation": null,
        "pivotColumns": null,
        "xColumns": null,
        "yColumns": null
       },
       "removedWidgets": [],
       "schema": [
        {
         "metadata": "{}",
         "name": "city",
         "type": "\"string\""
        },
        {
         "metadata": "{}",
         "name": "temperature",
         "type": "\"string\""
        },
        {
         "metadata": "{}",
         "name": "evapotranspiration",
         "type": "\"string\""
        },
        {
         "metadata": "{}",
         "name": "precipitation",
         "type": "\"string\""
        },
        {
         "metadata": "{}",
         "name": "humidity",
         "type": "\"string\""
        }
       ],
       "type": "table"
      }
     },
     "output_type": "display_data"
    }
   ],
   "source": [
    "df_newyork = df_weather_spark.filter(col('city') == 'New York')\n",
    "df_newyork_summary = df_newyork.summary()\n",
    "df_newyork_summary = df_newyork_summary.select('city','temperature', 'evapotranspiration','precipitation','humidity')\n",
    "df_newyork_summary = df_newyork_summary.filter(col('summary').isin('min','mean','max'))\n",
    "df_newyork.select(min(\"date\").alias(\"DataInicial\"),\n",
    "          max(\"date\").alias(\"DataFinal\")).show()\n",
    "df_newyork_summary.display()"
   ]
  },
  {
   "cell_type": "code",
   "execution_count": 0,
   "metadata": {
    "application/vnd.databricks.v1+cell": {
     "cellMetadata": {
      "byteLimit": 2048000,
      "rowLimit": 10000
     },
     "inputWidgets": {},
     "nuid": "d49e0da2-cc68-49ff-a563-72395d569ed4",
     "showTitle": false,
     "tableResultSettingsMap": {},
     "title": ""
    }
   },
   "outputs": [],
   "source": []
  }
 ],
 "metadata": {
  "application/vnd.databricks.v1+notebook": {
   "computePreferences": null,
   "dashboards": [],
   "environmentMetadata": {
    "base_environment": "",
    "environment_version": "1"
   },
   "inputWidgetPreferences": null,
   "language": "python",
   "notebookMetadata": {
    "pythonIndentUnit": 4
   },
   "notebookName": "Describing each city",
   "widgets": {}
  }
 },
 "nbformat": 4,
 "nbformat_minor": 0
}