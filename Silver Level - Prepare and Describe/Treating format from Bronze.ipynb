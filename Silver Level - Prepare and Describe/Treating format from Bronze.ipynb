{
 "cells": [
  {
   "cell_type": "code",
   "execution_count": 0,
   "metadata": {
    "application/vnd.databricks.v1+cell": {
     "cellMetadata": {
      "byteLimit": 2048000,
      "rowLimit": 10000
     },
     "inputWidgets": {},
     "nuid": "f5bdc0b7-818b-4ea0-9af9-0bc2aedaae4a",
     "showTitle": false,
     "tableResultSettingsMap": {},
     "title": ""
    }
   },
   "outputs": [
    {
     "output_type": "display_data",
     "data": {
      "application/vnd.databricks.v1+bamboolib_hint": "{\"pd.DataFrames\": [], \"version\": \"0.0.1\"}",
      "text/plain": []
     },
     "metadata": {},
     "output_type": "display_data"
    }
   ],
   "source": [
    "import pandas as pd\n",
    "import requests\n",
    "import time\n",
    "from datetime import datetime\n",
    "from pyspark.sql.functions import *"
   ]
  },
  {
   "cell_type": "code",
   "execution_count": 0,
   "metadata": {
    "application/vnd.databricks.v1+cell": {
     "cellMetadata": {
      "byteLimit": 2048000,
      "rowLimit": 10000
     },
     "inputWidgets": {},
     "nuid": "adffeff1-e679-48d4-a1cc-4d1a096abeae",
     "showTitle": false,
     "tableResultSettingsMap": {},
     "title": ""
    }
   },
   "outputs": [],
   "source": [
    "df_weather_spark = spark.sql(f\"\"\"SELECT * FROM delta. `/dbfs/Bronze/ExtraçãoTempo` \"\"\")"
   ]
  },
  {
   "cell_type": "code",
   "execution_count": 0,
   "metadata": {
    "application/vnd.databricks.v1+cell": {
     "cellMetadata": {
      "byteLimit": 2048000,
      "rowLimit": 10000
     },
     "inputWidgets": {},
     "nuid": "72b36c76-bd04-488f-aa7d-2060a0db92e7",
     "showTitle": false,
     "tableResultSettingsMap": {},
     "title": ""
    }
   },
   "outputs": [
    {
     "output_type": "display_data",
     "data": {
      "text/html": [
       "<style scoped>\n",
       "  .table-result-container {\n",
       "    max-height: 300px;\n",
       "    overflow: auto;\n",
       "  }\n",
       "  table, th, td {\n",
       "    border: 1px solid black;\n",
       "    border-collapse: collapse;\n",
       "  }\n",
       "  th, td {\n",
       "    padding: 5px;\n",
       "  }\n",
       "  th {\n",
       "    text-align: left;\n",
       "  }\n",
       "</style><div class='table-result-container'><table class='table-result'><thead style='background-color: white'><tr><th>city</th><th>latitude</th><th>longitude</th><th>datetime</th><th>temperature</th><th>evapotranspiration</th><th>precipitation</th><th>humidity</th></tr></thead><tbody><tr><td>São Paulo</td><td>-10.54156</td><td>-37.54603</td><td>2025-01-14T08:00</td><td>26.6</td><td>0.29</td><td>0.4</td><td>74</td></tr><tr><td>Rio de Janeiro</td><td>-22.89550</td><td>-43.40681</td><td>2025-01-27T12:00</td><td>30.7</td><td>0.53</td><td>0.0</td><td>62</td></tr><tr><td>Rio de Janeiro</td><td>-22.89550</td><td>-43.40681</td><td>2025-01-17T13:00</td><td>34.4</td><td>0.84</td><td>0.0</td><td>43</td></tr><tr><td>Rio de Janeiro</td><td>-22.89550</td><td>-43.40681</td><td>2025-01-17T08:00</td><td>25.3</td><td>0.22</td><td>0.0</td><td>86</td></tr><tr><td>Rio de Janeiro</td><td>-22.89550</td><td>-43.40681</td><td>2025-01-15T15:00</td><td>26.4</td><td>0.24</td><td>0.0</td><td>66</td></tr></tbody></table></div>"
      ]
     },
     "metadata": {
      "application/vnd.databricks.v1+output": {
       "addedWidgets": {},
       "aggData": [],
       "aggError": "",
       "aggOverflow": false,
       "aggSchema": [],
       "aggSeriesLimitReached": false,
       "aggType": "",
       "arguments": {},
       "columnCustomDisplayInfos": {},
       "data": [
        [
         "São Paulo",
         "-10.54156",
         "-37.54603",
         "2025-01-14T08:00",
         26.6,
         0.29,
         0.4,
         74
        ],
        [
         "Rio de Janeiro",
         "-22.89550",
         "-43.40681",
         "2025-01-27T12:00",
         30.7,
         0.53,
         0.0,
         62
        ],
        [
         "Rio de Janeiro",
         "-22.89550",
         "-43.40681",
         "2025-01-17T13:00",
         34.4,
         0.84,
         0.0,
         43
        ],
        [
         "Rio de Janeiro",
         "-22.89550",
         "-43.40681",
         "2025-01-17T08:00",
         25.3,
         0.22,
         0.0,
         86
        ],
        [
         "Rio de Janeiro",
         "-22.89550",
         "-43.40681",
         "2025-01-15T15:00",
         26.4,
         0.24,
         0.0,
         66
        ]
       ],
       "datasetInfos": [],
       "dbfsResultPath": null,
       "isJsonSchema": true,
       "metadata": {},
       "overflow": false,
       "plotOptions": {
        "customPlotOptions": {},
        "displayType": "table",
        "pivotAggregation": null,
        "pivotColumns": null,
        "xColumns": null,
        "yColumns": null
       },
       "removedWidgets": [],
       "schema": [
        {
         "metadata": "{}",
         "name": "city",
         "type": "\"string\""
        },
        {
         "metadata": "{}",
         "name": "latitude",
         "type": "\"string\""
        },
        {
         "metadata": "{}",
         "name": "longitude",
         "type": "\"string\""
        },
        {
         "metadata": "{}",
         "name": "datetime",
         "type": "\"string\""
        },
        {
         "metadata": "{}",
         "name": "temperature",
         "type": "\"double\""
        },
        {
         "metadata": "{}",
         "name": "evapotranspiration",
         "type": "\"double\""
        },
        {
         "metadata": "{}",
         "name": "precipitation",
         "type": "\"double\""
        },
        {
         "metadata": "{}",
         "name": "humidity",
         "type": "\"long\""
        }
       ],
       "type": "table"
      }
     },
     "output_type": "display_data"
    }
   ],
   "source": [
    "df_weather_spark.limit(5).display()"
   ]
  },
  {
   "cell_type": "code",
   "execution_count": 0,
   "metadata": {
    "application/vnd.databricks.v1+cell": {
     "cellMetadata": {
      "byteLimit": 2048000,
      "rowLimit": 10000
     },
     "inputWidgets": {},
     "nuid": "56402cee-66de-4caf-8fac-fb275116287d",
     "showTitle": false,
     "tableResultSettingsMap": {},
     "title": ""
    }
   },
   "outputs": [],
   "source": [
    "df_weather_spark = df_weather_spark.withColumn(\"date_str\", split(col(\"datetime\"), \"T\")[0]) \\\n",
    "       .withColumn(\"time_str\", split(col(\"datetime\"), \"T\")[1])\n",
    "\n",
    "df_weather_spark = df_weather_spark.withColumn(\"date\", to_date(col(\"date_str\"), \"yyyy-MM-dd\"))"
   ]
  },
  {
   "cell_type": "code",
   "execution_count": 0,
   "metadata": {
    "application/vnd.databricks.v1+cell": {
     "cellMetadata": {
      "byteLimit": 2048000,
      "rowLimit": 10000
     },
     "inputWidgets": {},
     "nuid": "ed2ee950-a22d-4db5-8c63-06214f6f2d79",
     "showTitle": false,
     "tableResultSettingsMap": {},
     "title": ""
    }
   },
   "outputs": [],
   "source": [
    "df_weather_spark = df_weather_spark.drop('datetime','date_str','latitude','longitude')"
   ]
  },
  {
   "cell_type": "code",
   "execution_count": 0,
   "metadata": {
    "application/vnd.databricks.v1+cell": {
     "cellMetadata": {
      "byteLimit": 2048000,
      "rowLimit": 10000
     },
     "inputWidgets": {},
     "nuid": "9327cd49-6077-440a-b5d4-d065d1edf428",
     "showTitle": false,
     "tableResultSettingsMap": {},
     "title": ""
    }
   },
   "outputs": [
    {
     "output_type": "display_data",
     "data": {
      "text/html": [
       "<style scoped>\n",
       "  .table-result-container {\n",
       "    max-height: 300px;\n",
       "    overflow: auto;\n",
       "  }\n",
       "  table, th, td {\n",
       "    border: 1px solid black;\n",
       "    border-collapse: collapse;\n",
       "  }\n",
       "  th, td {\n",
       "    padding: 5px;\n",
       "  }\n",
       "  th {\n",
       "    text-align: left;\n",
       "  }\n",
       "</style><div class='table-result-container'><table class='table-result'><thead style='background-color: white'><tr><th>city</th><th>temperature</th><th>evapotranspiration</th><th>precipitation</th><th>humidity</th><th>time_str</th><th>date</th></tr></thead><tbody><tr><td>São Paulo</td><td>26.6</td><td>0.29</td><td>0.4</td><td>74</td><td>08:00</td><td>2025-01-14</td></tr><tr><td>Rio de Janeiro</td><td>30.7</td><td>0.53</td><td>0.0</td><td>62</td><td>12:00</td><td>2025-01-27</td></tr><tr><td>Rio de Janeiro</td><td>34.4</td><td>0.84</td><td>0.0</td><td>43</td><td>13:00</td><td>2025-01-17</td></tr><tr><td>Rio de Janeiro</td><td>25.3</td><td>0.22</td><td>0.0</td><td>86</td><td>08:00</td><td>2025-01-17</td></tr><tr><td>Rio de Janeiro</td><td>26.4</td><td>0.24</td><td>0.0</td><td>66</td><td>15:00</td><td>2025-01-15</td></tr></tbody></table></div>"
      ]
     },
     "metadata": {
      "application/vnd.databricks.v1+output": {
       "addedWidgets": {},
       "aggData": [],
       "aggError": "",
       "aggOverflow": false,
       "aggSchema": [],
       "aggSeriesLimitReached": false,
       "aggType": "",
       "arguments": {},
       "columnCustomDisplayInfos": {},
       "data": [
        [
         "São Paulo",
         26.6,
         0.29,
         0.4,
         74,
         "08:00",
         "2025-01-14"
        ],
        [
         "Rio de Janeiro",
         30.7,
         0.53,
         0.0,
         62,
         "12:00",
         "2025-01-27"
        ],
        [
         "Rio de Janeiro",
         34.4,
         0.84,
         0.0,
         43,
         "13:00",
         "2025-01-17"
        ],
        [
         "Rio de Janeiro",
         25.3,
         0.22,
         0.0,
         86,
         "08:00",
         "2025-01-17"
        ],
        [
         "Rio de Janeiro",
         26.4,
         0.24,
         0.0,
         66,
         "15:00",
         "2025-01-15"
        ]
       ],
       "datasetInfos": [],
       "dbfsResultPath": null,
       "isJsonSchema": true,
       "metadata": {},
       "overflow": false,
       "plotOptions": {
        "customPlotOptions": {},
        "displayType": "table",
        "pivotAggregation": null,
        "pivotColumns": null,
        "xColumns": null,
        "yColumns": null
       },
       "removedWidgets": [],
       "schema": [
        {
         "metadata": "{}",
         "name": "city",
         "type": "\"string\""
        },
        {
         "metadata": "{}",
         "name": "temperature",
         "type": "\"double\""
        },
        {
         "metadata": "{}",
         "name": "evapotranspiration",
         "type": "\"double\""
        },
        {
         "metadata": "{}",
         "name": "precipitation",
         "type": "\"double\""
        },
        {
         "metadata": "{}",
         "name": "humidity",
         "type": "\"long\""
        },
        {
         "metadata": "{}",
         "name": "time_str",
         "type": "\"string\""
        },
        {
         "metadata": "{}",
         "name": "date",
         "type": "\"date\""
        }
       ],
       "type": "table"
      }
     },
     "output_type": "display_data"
    }
   ],
   "source": [
    "df_weather_spark.limit(5).display()"
   ]
  },
  {
   "cell_type": "code",
   "execution_count": 0,
   "metadata": {
    "application/vnd.databricks.v1+cell": {
     "cellMetadata": {
      "byteLimit": 2048000,
      "rowLimit": 10000
     },
     "inputWidgets": {},
     "nuid": "a7c5105e-6936-411b-8480-8a2e5b27b748",
     "showTitle": false,
     "tableResultSettingsMap": {},
     "title": ""
    }
   },
   "outputs": [],
   "source": [
    "df_weather_spark.repartition(20)\\\n",
    "              .write.format(\"delta\")\\\n",
    "              .mode(\"overwrite\")\\\n",
    "              .option(\"overwriteSchema\", \"true\")\\\n",
    "              .save(\"/dbfs/Silver/ExtraçãoTempo\")"
   ]
  },
  {
   "cell_type": "code",
   "execution_count": 0,
   "metadata": {
    "application/vnd.databricks.v1+cell": {
     "cellMetadata": {
      "byteLimit": 2048000,
      "rowLimit": 10000
     },
     "inputWidgets": {},
     "nuid": "12dc4a2b-5c9b-482c-a34c-1bf202018c67",
     "showTitle": false,
     "tableResultSettingsMap": {},
     "title": ""
    }
   },
   "outputs": [],
   "source": []
  }
 ],
 "metadata": {
  "application/vnd.databricks.v1+notebook": {
   "computePreferences": null,
   "dashboards": [],
   "environmentMetadata": {
    "base_environment": "",
    "environment_version": "1"
   },
   "inputWidgetPreferences": null,
   "language": "python",
   "notebookMetadata": {
    "pythonIndentUnit": 4
   },
   "notebookName": "Treating format from Bronze",
   "widgets": {}
  }
 },
 "nbformat": 4,
 "nbformat_minor": 0
}