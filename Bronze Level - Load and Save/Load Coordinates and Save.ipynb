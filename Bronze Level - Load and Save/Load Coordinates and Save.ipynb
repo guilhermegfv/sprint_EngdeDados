{
 "cells": [
  {
   "cell_type": "code",
   "execution_count": 0,
   "metadata": {
    "application/vnd.databricks.v1+cell": {
     "cellMetadata": {
      "byteLimit": 2048000,
      "rowLimit": 10000
     },
     "inputWidgets": {},
     "nuid": "7e486bbd-51db-4d67-a131-8c742f6cc962",
     "showTitle": false,
     "tableResultSettingsMap": {},
     "title": ""
    }
   },
   "outputs": [
    {
     "output_type": "display_data",
     "data": {
      "application/vnd.databricks.v1+bamboolib_hint": "{\"pd.DataFrames\": [], \"version\": \"0.0.1\"}",
      "text/plain": []
     },
     "metadata": {},
     "output_type": "display_data"
    }
   ],
   "source": [
    "import requests\n",
    "import pandas as pd\n",
    "import time"
   ]
  },
  {
   "cell_type": "code",
   "execution_count": 0,
   "metadata": {
    "application/vnd.databricks.v1+cell": {
     "cellMetadata": {
      "byteLimit": 2048000,
      "rowLimit": 10000
     },
     "inputWidgets": {},
     "nuid": "4bfd4ab6-71bb-4477-b02c-d7e217aa4e6a",
     "showTitle": false,
     "tableResultSettingsMap": {},
     "title": ""
    }
   },
   "outputs": [],
   "source": [
    "def get_coordinates_nominatim(city):\n",
    "    \"\"\"Tentativa 1 Fonte: OpenStreetMap Nominatim API.\"\"\"\n",
    "    url = f\"https://nominatim.openstreetmap.org/search?q={city}&format=json\"\n",
    "    response = requests.get(url)\n",
    "    \n",
    "    if response.status_code == 200:\n",
    "        data = response.json()\n",
    "        if data:\n",
    "            return data[0][\"lat\"], data[0][\"lon\"]\n",
    "    return None, None\n",
    "\n",
    "def get_coordinates_geocode_xyz(city):\n",
    "    \"\"\"Tentativa 2 Fonte: Geocode.xyz API.\"\"\"\n",
    "    url = f\"https://geocode.xyz/{city}?json=1\"\n",
    "    response = requests.get(url)\n",
    "    \n",
    "    if response.status_code == 200:\n",
    "        data = response.json()\n",
    "        if \"latt\" in data and \"longt\" in data:\n",
    "            return data[\"latt\"], data[\"longt\"]\n",
    "    return None, None\n",
    "\n",
    "def get_city_coordinates(cities):\n",
    "    \"\"\"Executar busca de coordenadas a partir de Series em Pandas\"\"\"\n",
    "    results = []\n",
    "\n",
    "    for city in cities:\n",
    "        lat, lon = get_coordinates_nominatim(city)\n",
    "        \n",
    "        if lat is None or lon is None:\n",
    "            time.sleep(1)\n",
    "            lat, lon = get_coordinates_geocode_xyz(city)\n",
    "\n",
    "        results.append({\"city\": city, \"lat\": lat, \"lon\": lon})\n",
    "\n",
    "    return pd.DataFrame(results)\n"
   ]
  },
  {
   "cell_type": "code",
   "execution_count": 0,
   "metadata": {
    "application/vnd.databricks.v1+cell": {
     "cellMetadata": {
      "byteLimit": 2048000,
      "rowLimit": 10000
     },
     "inputWidgets": {},
     "nuid": "2176ae34-220d-4e34-8dd9-fb5b989acd29",
     "showTitle": false,
     "tableResultSettingsMap": {},
     "title": ""
    }
   },
   "outputs": [],
   "source": [
    "df = pd.DataFrame(columns=['city','lat','lon'])"
   ]
  },
  {
   "cell_type": "code",
   "execution_count": 0,
   "metadata": {
    "application/vnd.databricks.v1+cell": {
     "cellMetadata": {
      "byteLimit": 2048000,
      "rowLimit": 10000
     },
     "inputWidgets": {},
     "nuid": "0c808967-4e73-4177-90ce-7f5aa202d602",
     "showTitle": false,
     "tableResultSettingsMap": {},
     "title": ""
    }
   },
   "outputs": [],
   "source": [
    "# Example usage\n",
    "city_series = pd.Series([\"New York\", \"London\", \"Tokyo\", \"São Paulo\", \"Berlin\", \"Lisbon\", \"Madrid\", \"Paris\", \"Rio de Janeiro\"])\n",
    "df_coordinates = get_city_coordinates(city_series)"
   ]
  },
  {
   "cell_type": "code",
   "execution_count": 0,
   "metadata": {
    "application/vnd.databricks.v1+cell": {
     "cellMetadata": {
      "byteLimit": 2048000,
      "rowLimit": 10000
     },
     "inputWidgets": {},
     "nuid": "720f9411-0fe3-4b62-a246-4b97901705a6",
     "showTitle": false,
     "tableResultSettingsMap": {},
     "title": ""
    }
   },
   "outputs": [
    {
     "output_type": "stream",
     "name": "stdout",
     "output_type": "stream",
     "text": [
      "             city        lat        lon\n0        New York   40.67483  -73.97118\n1          London   51.51411   -0.11451\n2           Tokyo   35.70501  139.51086\n3       São Paulo  -10.54156  -37.54603\n4          Berlin   52.50234   13.40451\n5          Lisbon   38.74422   -9.15188\n6          Madrid   40.42959   -3.68876\n7           Paris   48.86130    2.34051\n8  Rio de Janeiro  -22.89550  -43.40681\n"
     ]
    }
   ],
   "source": [
    "print(df_coordinates)"
   ]
  },
  {
   "cell_type": "code",
   "execution_count": 0,
   "metadata": {
    "application/vnd.databricks.v1+cell": {
     "cellMetadata": {
      "byteLimit": 2048000,
      "rowLimit": 10000
     },
     "inputWidgets": {},
     "nuid": "2e44e0e9-41e3-4479-ac78-fe045aef322a",
     "showTitle": false,
     "tableResultSettingsMap": {},
     "title": ""
    }
   },
   "outputs": [
    {
     "output_type": "stream",
     "name": "stdout",
     "output_type": "stream",
     "text": [
      "<class 'pandas.core.frame.DataFrame'>\n"
     ]
    }
   ],
   "source": [
    "print(type(df_coordinates))"
   ]
  },
  {
   "cell_type": "code",
   "execution_count": 0,
   "metadata": {
    "application/vnd.databricks.v1+cell": {
     "cellMetadata": {
      "byteLimit": 2048000,
      "rowLimit": 10000
     },
     "inputWidgets": {},
     "nuid": "b953fc2a-6cfe-4998-976c-71248982ec26",
     "showTitle": false,
     "tableResultSettingsMap": {},
     "title": ""
    }
   },
   "outputs": [],
   "source": [
    "df_coordinates_spark = spark.createDataFrame(df_coordinates)"
   ]
  },
  {
   "cell_type": "code",
   "execution_count": 0,
   "metadata": {
    "application/vnd.databricks.v1+cell": {
     "cellMetadata": {
      "byteLimit": 2048000,
      "rowLimit": 10000
     },
     "inputWidgets": {},
     "nuid": "f7c37d6f-fb11-43e6-84e2-5a8aac7c2a41",
     "showTitle": false,
     "tableResultSettingsMap": {},
     "title": ""
    }
   },
   "outputs": [],
   "source": [
    "df_coordinates_spark.repartition(20)\\\n",
    "              .write.format(\"delta\")\\\n",
    "              .mode(\"overwrite\")\\\n",
    "              .option(\"overwriteSchema\", \"true\")\\\n",
    "              .save(\"/dbfs/Coordenadas/ExtracaoOriginal\")"
   ]
  },
  {
   "cell_type": "code",
   "execution_count": 0,
   "metadata": {
    "application/vnd.databricks.v1+cell": {
     "cellMetadata": {
      "byteLimit": 2048000,
      "rowLimit": 10000
     },
     "inputWidgets": {},
     "nuid": "3ab6980e-6805-44b7-8c12-521829ab60a9",
     "showTitle": false,
     "tableResultSettingsMap": {},
     "title": ""
    }
   },
   "outputs": [],
   "source": []
  }
 ],
 "metadata": {
  "application/vnd.databricks.v1+notebook": {
   "computePreferences": null,
   "dashboards": [],
   "environmentMetadata": {
    "base_environment": "",
    "environment_version": "1"
   },
   "inputWidgetPreferences": null,
   "language": "python",
   "notebookMetadata": {
    "pythonIndentUnit": 4
   },
   "notebookName": "Load Coordinates and Save",
   "widgets": {}
  }
 },
 "nbformat": 4,
 "nbformat_minor": 0
}